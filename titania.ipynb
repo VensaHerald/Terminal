{
  "nbformat": 4,
  "nbformat_minor": 0,
  "metadata": {
    "colab": {
      "name": "titania",
      "version": "0.3.2",
      "provenance": [],
      "collapsed_sections": [],
      "toc_visible": true,
      "include_colab_link": true
    },
    "kernelspec": {
      "name": "python3",
      "display_name": "Python 3"
    }
  },
  "cells": [
    {
      "cell_type": "markdown",
      "metadata": {
        "id": "view-in-github",
        "colab_type": "text"
      },
      "source": [
        "<a href=\"https://colab.research.google.com/github/VensaHerald/Terminal/blob/master/titania.ipynb\" target=\"_parent\"><img src=\"https://colab.research.google.com/assets/colab-badge.svg\" alt=\"Open In Colab\"/></a>"
      ]
    },
    {
      "cell_type": "code",
      "metadata": {
        "id": "K4W2IMN7JUhR",
        "colab_type": "code",
        "colab": {}
      },
      "source": [
        "import pandas as pd\n",
        "import matplotlib.pyplot as plt\n",
        "import numpy as np\n",
        "%matplotlib inline"
      ],
      "execution_count": 0,
      "outputs": []
    },
    {
      "cell_type": "code",
      "metadata": {
        "id": "FOOq6ae5GHR_",
        "colab_type": "code",
        "outputId": "7276f481-c4bd-42d3-83dd-0cc5218e134a",
        "colab": {
          "base_uri": "https://localhost:8080/",
          "height": 306
        }
      },
      "source": [
        "url = \"https://raw.githubusercontent.com/VensaHerald/titania/master/train.csv\"\n",
        "df_t = pd.read_csv(url)\n",
        "df_t.head()"
      ],
      "execution_count": 30,
      "outputs": [
        {
          "output_type": "execute_result",
          "data": {
            "text/html": [
              "<div>\n",
              "<style scoped>\n",
              "    .dataframe tbody tr th:only-of-type {\n",
              "        vertical-align: middle;\n",
              "    }\n",
              "\n",
              "    .dataframe tbody tr th {\n",
              "        vertical-align: top;\n",
              "    }\n",
              "\n",
              "    .dataframe thead th {\n",
              "        text-align: right;\n",
              "    }\n",
              "</style>\n",
              "<table border=\"1\" class=\"dataframe\">\n",
              "  <thead>\n",
              "    <tr style=\"text-align: right;\">\n",
              "      <th></th>\n",
              "      <th>PassengerId</th>\n",
              "      <th>Survived</th>\n",
              "      <th>Pclass</th>\n",
              "      <th>Name</th>\n",
              "      <th>Sex</th>\n",
              "      <th>Age</th>\n",
              "      <th>SibSp</th>\n",
              "      <th>Parch</th>\n",
              "      <th>Ticket</th>\n",
              "      <th>Fare</th>\n",
              "      <th>Cabin</th>\n",
              "      <th>Embarked</th>\n",
              "    </tr>\n",
              "  </thead>\n",
              "  <tbody>\n",
              "    <tr>\n",
              "      <th>0</th>\n",
              "      <td>1</td>\n",
              "      <td>0</td>\n",
              "      <td>3</td>\n",
              "      <td>Braund, Mr. Owen Harris</td>\n",
              "      <td>male</td>\n",
              "      <td>22.0</td>\n",
              "      <td>1</td>\n",
              "      <td>0</td>\n",
              "      <td>A/5 21171</td>\n",
              "      <td>7.2500</td>\n",
              "      <td>NaN</td>\n",
              "      <td>S</td>\n",
              "    </tr>\n",
              "    <tr>\n",
              "      <th>1</th>\n",
              "      <td>2</td>\n",
              "      <td>1</td>\n",
              "      <td>1</td>\n",
              "      <td>Cumings, Mrs. John Bradley (Florence Briggs Th...</td>\n",
              "      <td>female</td>\n",
              "      <td>38.0</td>\n",
              "      <td>1</td>\n",
              "      <td>0</td>\n",
              "      <td>PC 17599</td>\n",
              "      <td>71.2833</td>\n",
              "      <td>C85</td>\n",
              "      <td>C</td>\n",
              "    </tr>\n",
              "    <tr>\n",
              "      <th>2</th>\n",
              "      <td>3</td>\n",
              "      <td>1</td>\n",
              "      <td>3</td>\n",
              "      <td>Heikkinen, Miss. Laina</td>\n",
              "      <td>female</td>\n",
              "      <td>26.0</td>\n",
              "      <td>0</td>\n",
              "      <td>0</td>\n",
              "      <td>STON/O2. 3101282</td>\n",
              "      <td>7.9250</td>\n",
              "      <td>NaN</td>\n",
              "      <td>S</td>\n",
              "    </tr>\n",
              "    <tr>\n",
              "      <th>3</th>\n",
              "      <td>4</td>\n",
              "      <td>1</td>\n",
              "      <td>1</td>\n",
              "      <td>Futrelle, Mrs. Jacques Heath (Lily May Peel)</td>\n",
              "      <td>female</td>\n",
              "      <td>35.0</td>\n",
              "      <td>1</td>\n",
              "      <td>0</td>\n",
              "      <td>113803</td>\n",
              "      <td>53.1000</td>\n",
              "      <td>C123</td>\n",
              "      <td>S</td>\n",
              "    </tr>\n",
              "    <tr>\n",
              "      <th>4</th>\n",
              "      <td>5</td>\n",
              "      <td>0</td>\n",
              "      <td>3</td>\n",
              "      <td>Allen, Mr. William Henry</td>\n",
              "      <td>male</td>\n",
              "      <td>35.0</td>\n",
              "      <td>0</td>\n",
              "      <td>0</td>\n",
              "      <td>373450</td>\n",
              "      <td>8.0500</td>\n",
              "      <td>NaN</td>\n",
              "      <td>S</td>\n",
              "    </tr>\n",
              "  </tbody>\n",
              "</table>\n",
              "</div>"
            ],
            "text/plain": [
              "   PassengerId  Survived  Pclass  ...     Fare Cabin  Embarked\n",
              "0            1         0       3  ...   7.2500   NaN         S\n",
              "1            2         1       1  ...  71.2833   C85         C\n",
              "2            3         1       3  ...   7.9250   NaN         S\n",
              "3            4         1       1  ...  53.1000  C123         S\n",
              "4            5         0       3  ...   8.0500   NaN         S\n",
              "\n",
              "[5 rows x 12 columns]"
            ]
          },
          "metadata": {
            "tags": []
          },
          "execution_count": 30
        }
      ]
    },
    {
      "cell_type": "markdown",
      "metadata": {
        "id": "cOFPlzXwO2eS",
        "colab_type": "text"
      },
      "source": [
        "###Did more men or women die on the Titanic\n"
      ]
    },
    {
      "cell_type": "code",
      "metadata": {
        "id": "olg3dZm8Ow-K",
        "colab_type": "code",
        "outputId": "88bdec6c-2a85-4a31-804d-9a5c665bfb4e",
        "colab": {
          "base_uri": "https://localhost:8080/",
          "height": 68
        }
      },
      "source": [
        "df_t[df_t[\"Survived\"]==0][\"Sex\"].value_counts()"
      ],
      "execution_count": 31,
      "outputs": [
        {
          "output_type": "execute_result",
          "data": {
            "text/plain": [
              "male      468\n",
              "female     81\n",
              "Name: Sex, dtype: int64"
            ]
          },
          "metadata": {
            "tags": []
          },
          "execution_count": 31
        }
      ]
    },
    {
      "cell_type": "code",
      "metadata": {
        "id": "PPeFLAVlVbNV",
        "colab_type": "code",
        "outputId": "1f98a8b0-0e59-4d19-f4d6-b7238211c4f0",
        "colab": {
          "base_uri": "https://localhost:8080/",
          "height": 34
        }
      },
      "source": [
        "df_t[df_t[\"Age\"].isna()].shape[0]/df_t.shape[0]"
      ],
      "execution_count": 32,
      "outputs": [
        {
          "output_type": "execute_result",
          "data": {
            "text/plain": [
              "0.19865319865319866"
            ]
          },
          "metadata": {
            "tags": []
          },
          "execution_count": 32
        }
      ]
    },
    {
      "cell_type": "markdown",
      "metadata": {
        "id": "NiP03zx7PYTj",
        "colab_type": "text"
      },
      "source": [
        "###What was the average age of those who died, and those who survived?\n",
        "Before I can answer this, I need to sort out the data. From the above cell we can see that there are 20% rows missing age data.  So I will need to drop these from the dataset before beginning\n"
      ]
    },
    {
      "cell_type": "code",
      "metadata": {
        "id": "eKmkTq-_TE5-",
        "colab_type": "code",
        "outputId": "ad262cd6-787b-4510-9957-6bf366109ce3",
        "colab": {
          "base_uri": "https://localhost:8080/",
          "height": 49
        }
      },
      "source": [
        "df_dr_age = df_t.dropna(subset=[\"Age\"])\n",
        "df_dr_age[df_dr_age[\"Age\"].isna()]"
      ],
      "execution_count": 33,
      "outputs": [
        {
          "output_type": "execute_result",
          "data": {
            "text/html": [
              "<div>\n",
              "<style scoped>\n",
              "    .dataframe tbody tr th:only-of-type {\n",
              "        vertical-align: middle;\n",
              "    }\n",
              "\n",
              "    .dataframe tbody tr th {\n",
              "        vertical-align: top;\n",
              "    }\n",
              "\n",
              "    .dataframe thead th {\n",
              "        text-align: right;\n",
              "    }\n",
              "</style>\n",
              "<table border=\"1\" class=\"dataframe\">\n",
              "  <thead>\n",
              "    <tr style=\"text-align: right;\">\n",
              "      <th></th>\n",
              "      <th>PassengerId</th>\n",
              "      <th>Survived</th>\n",
              "      <th>Pclass</th>\n",
              "      <th>Name</th>\n",
              "      <th>Sex</th>\n",
              "      <th>Age</th>\n",
              "      <th>SibSp</th>\n",
              "      <th>Parch</th>\n",
              "      <th>Ticket</th>\n",
              "      <th>Fare</th>\n",
              "      <th>Cabin</th>\n",
              "      <th>Embarked</th>\n",
              "    </tr>\n",
              "  </thead>\n",
              "  <tbody>\n",
              "  </tbody>\n",
              "</table>\n",
              "</div>"
            ],
            "text/plain": [
              "Empty DataFrame\n",
              "Columns: [PassengerId, Survived, Pclass, Name, Sex, Age, SibSp, Parch, Ticket, Fare, Cabin, Embarked]\n",
              "Index: []"
            ]
          },
          "metadata": {
            "tags": []
          },
          "execution_count": 33
        }
      ]
    },
    {
      "cell_type": "markdown",
      "metadata": {
        "id": "u4LxorcJZnX6",
        "colab_type": "text"
      },
      "source": [
        "Now these values have been dropped we can look at this column in more detail.  We'll do a histogram to get the lay of the land regarding the distribution of each group (whole pop, survived, non-survived).  And then produce the values of the mean at the end."
      ]
    },
    {
      "cell_type": "code",
      "metadata": {
        "id": "nL8ljjTgZzIK",
        "colab_type": "code",
        "outputId": "00295b04-f407-4791-945d-b14c966b7507",
        "colab": {
          "base_uri": "https://localhost:8080/",
          "height": 934
        }
      },
      "source": [
        "survived = df_dr_age[df_dr_age[\"Survived\"] == 1]\n",
        "died = df_dr_age[df_dr_age[\"Survived\"] == 0]\n",
        "titles = [\"Whole\",\"Survivors\",\"Non-survivors\"]\n",
        "fig = plt.figure(figsize=(6,16))\n",
        "\n",
        "for a in range(0,3):\n",
        "    ax = fig.add_subplot(3,1,a+1)\n",
        "    ax.set_ylim(0,80)\n",
        "    ax.set_title(titles[a])\n",
        "    ax.tick_params(bottom=False, right=False, top=False, left=False)\n",
        "    ax.set_xticks([])\n",
        "    ax.set_yticks([])\n",
        "    \n",
        "    for key, spine in ax.spines.items():\n",
        "        spine.set_visible(False)\n",
        "\n",
        "    if a == 0:\n",
        "        ax.hist(df_dr_age[\"Age\"], range=(0,80),bins=16)\n",
        "        ax.set_ylim((0,120))\n",
        "        \n",
        "    elif a == 1:\n",
        "        ax.hist(survived[\"Age\"], range=(0,80), bins=16)\n",
        "    else:\n",
        "        ax.hist(died[\"Age\"], range=(0,80),bins=16)\n",
        "        ax.tick_params(bottom=True)\n",
        "        ax.set_xticks([0,20,40,60,80])\n"
      ],
      "execution_count": 34,
      "outputs": [
        {
          "output_type": "display_data",
          "data": {
            "image/png": "[encoded data removed]",
            "text/plain": [
              "<Figure size 432x1152 with 3 Axes>"
            ]
          },
          "metadata": {
            "tags": []
          }
        }
      ]
    },
    {
      "cell_type": "code",
      "metadata": {
        "id": "AKtA4XB4geQ5",
        "colab_type": "code",
        "outputId": "413c736b-3074-4a5a-a7b6-112a16dc4b26",
        "colab": {
          "base_uri": "https://localhost:8080/",
          "height": 51
        }
      },
      "source": [
        "mean_sur = round(survived[\"Age\"].mean(),2)\n",
        "mean_nsur = round(died[\"Age\"].mean(),2)\n",
        "print(\"Mean survivor was:{}. \\nMean non-survivor was:{}\".format(mean_sur, mean_nsur))"
      ],
      "execution_count": 35,
      "outputs": [
        {
          "output_type": "stream",
          "text": [
            "Mean survivor was:28.34. \n",
            "Mean non-survivor was:30.63\n"
          ],
          "name": "stdout"
        }
      ]
    },
    {
      "cell_type": "markdown",
      "metadata": {
        "id": "iueZOSXBhGNT",
        "colab_type": "text"
      },
      "source": [
        "###Is there any correlation between rate of surviving and Age\n",
        "We'll produce a scatter chart to determine whether there is a visible correlation between these two properies."
      ]
    },
    {
      "cell_type": "code",
      "metadata": {
        "id": "QGMhTUntiawL",
        "colab_type": "code",
        "outputId": "0d38f57e-2860-4ac7-801c-db2effdb5821",
        "colab": {
          "base_uri": "https://localhost:8080/",
          "height": 503
        }
      },
      "source": [
        "fig = plt.figure(figsize=(8,8))\n",
        "ax = fig.add_subplot(1,1,1)\n",
        "ax.scatter(df_dr_age[\"Survived\"], df_dr_age[\"Age\"])"
      ],
      "execution_count": 36,
      "outputs": [
        {
          "output_type": "execute_result",
          "data": {
            "text/plain": [
              "<matplotlib.collections.PathCollection at 0x7fc8e5c24e80>"
            ]
          },
          "metadata": {
            "tags": []
          },
          "execution_count": 36
        },
        {
          "output_type": "display_data",
          "data": {
            "image/png": "[encoded data removed]",
            "text/plain": [
              "<Figure size 576x576 with 1 Axes>"
            ]
          },
          "metadata": {
            "tags": []
          }
        }
      ]
    },
    {
      "cell_type": "markdown",
      "metadata": {
        "id": "nKnC4mHpsyOm",
        "colab_type": "text"
      },
      "source": [
        "This is hard to view any kind of correlation, so lets look at this mathematically.\n",
        "\n",
        "First lets look at the variance of the \"Age\" parameter for each person (sample)."
      ]
    },
    {
      "cell_type": "code",
      "metadata": {
        "id": "XnVZgDjEtDUK",
        "colab_type": "code",
        "outputId": "944aa0b5-10e6-401e-a2d3-5280d0f5819e",
        "colab": {
          "base_uri": "https://localhost:8080/",
          "height": 34
        }
      },
      "source": [
        "variance_age = ((df_dr_age[\"Age\"] - df_dr_age[\"Age\"].mean())**2).mean()\n",
        "n = df_dr_age.shape[0]\n",
        "variance_age * (n/(n-1))\n",
        "\n",
        "variance_sur = ((df_dr_age[\"Survived\"] - df_dr_age[\"Survived\"].mean())**2).mean()\n",
        "variance_sur"
      ],
      "execution_count": 37,
      "outputs": [
        {
          "output_type": "execute_result",
          "data": {
            "text/plain": [
              "0.24119451702249717"
            ]
          },
          "metadata": {
            "tags": []
          },
          "execution_count": 37
        }
      ]
    },
    {
      "cell_type": "markdown",
      "metadata": {
        "id": "KxWX5RcTxyOa",
        "colab_type": "text"
      },
      "source": [
        "And the standard deviation"
      ]
    },
    {
      "cell_type": "code",
      "metadata": {
        "id": "EWjXJ6jrxxMo",
        "colab_type": "code",
        "colab": {}
      },
      "source": [
        "std_dev_age = variance_age ** 0.5\n",
        "\n",
        "std_dev_sur = variance_sur ** 0.5"
      ],
      "execution_count": 0,
      "outputs": []
    },
    {
      "cell_type": "markdown",
      "metadata": {
        "id": "3HaHEbTLyk8r",
        "colab_type": "text"
      },
      "source": [
        "Now lets calculate the Pearsons correlation coefficient for the Age parameter and survived parameters.  Starting with the covariance of each parameter"
      ]
    },
    {
      "cell_type": "code",
      "metadata": {
        "id": "2-tq5nsyytAI",
        "colab_type": "code",
        "colab": {}
      },
      "source": [
        "#@params x - pandas series\n",
        "#@params y - pandas series\n",
        "#@return float\n",
        "def pear_cor(x, y):\n",
        "    cov = ((x - x.mean()) * (y - y.mean())).mean()\n",
        "    std_dev_x = ((x - x.mean())**2).mean()**0.5\n",
        "    std_dev_y = ((y - y.mean())**2).mean()**0.5\n",
        "    return cov / (std_dev_x * std_dev_y)\n",
        "\n",
        "\n",
        "cov = (df_dr_age[\"Age\"] - df_dr_age[\"Age\"].mean()) * (df_dr_age[\"Survived\"] - df_dr_age[\"Survived\"].mean())\n",
        "cov = cov.mean()\n"
      ],
      "execution_count": 0,
      "outputs": []
    },
    {
      "cell_type": "code",
      "metadata": {
        "id": "g16V5uLp0Dyx",
        "colab_type": "code",
        "outputId": "03c47a69-a1c3-4652-9b5e-da222f547bb7",
        "colab": {
          "base_uri": "https://localhost:8080/",
          "height": 34
        }
      },
      "source": [
        "pear_cor_1 = cov / (std_dev_age * std_dev_sur)\n",
        "pear_cor_1"
      ],
      "execution_count": 40,
      "outputs": [
        {
          "output_type": "execute_result",
          "data": {
            "text/plain": [
              "-0.07722109457217735"
            ]
          },
          "metadata": {
            "tags": []
          },
          "execution_count": 40
        }
      ]
    },
    {
      "cell_type": "code",
      "metadata": {
        "id": "JsOuBPEQ1oJL",
        "colab_type": "code",
        "outputId": "77578714-a20e-4936-e714-cd5eb88c3048",
        "colab": {
          "base_uri": "https://localhost:8080/",
          "height": 34
        }
      },
      "source": [
        "pear_cor_test = pear_cor(df_dr_age[\"Age\"], df_dr_age[\"Survived\"])\n",
        "pear_cor_test"
      ],
      "execution_count": 41,
      "outputs": [
        {
          "output_type": "execute_result",
          "data": {
            "text/plain": [
              "-0.07722109457217735"
            ]
          },
          "metadata": {
            "tags": []
          },
          "execution_count": 41
        }
      ]
    },
    {
      "cell_type": "markdown",
      "metadata": {
        "id": "fQrFBH3U2HMx",
        "colab_type": "text"
      },
      "source": [
        "This appears to be a very weak negative correlation, let us compare it with other Pearsons values for Survived and other parameters."
      ]
    },
    {
      "cell_type": "code",
      "metadata": {
        "id": "0ub5EdA52RQH",
        "colab_type": "code",
        "outputId": "0f6f944a-9c66-460a-b12f-16bbdfde2581",
        "colab": {
          "base_uri": "https://localhost:8080/",
          "height": 306
        }
      },
      "source": [
        "df_dr_age.info()"
      ],
      "execution_count": 42,
      "outputs": [
        {
          "output_type": "stream",
          "text": [
            "<class 'pandas.core.frame.DataFrame'>\n",
            "Int64Index: 714 entries, 0 to 890\n",
            "Data columns (total 12 columns):\n",
            "PassengerId    714 non-null int64\n",
            "Survived       714 non-null int64\n",
            "Pclass         714 non-null int64\n",
            "Name           714 non-null object\n",
            "Sex            714 non-null object\n",
            "Age            714 non-null float64\n",
            "SibSp          714 non-null int64\n",
            "Parch          714 non-null int64\n",
            "Ticket         714 non-null object\n",
            "Fare           714 non-null float64\n",
            "Cabin          185 non-null object\n",
            "Embarked       712 non-null object\n",
            "dtypes: float64(2), int64(5), object(5)\n",
            "memory usage: 72.5+ KB\n"
          ],
          "name": "stdout"
        }
      ]
    },
    {
      "cell_type": "code",
      "metadata": {
        "id": "9Np9I3253bg8",
        "colab_type": "code",
        "outputId": "1e291a91-11d4-4011-d8bf-4595ecc84633",
        "colab": {
          "base_uri": "https://localhost:8080/",
          "height": 306
        }
      },
      "source": [
        "df_dr = df_dr_age.copy()\n",
        "df_dr = df_dr.dropna(subset=[\"Embarked\"])\n",
        "df_dr.info()"
      ],
      "execution_count": 43,
      "outputs": [
        {
          "output_type": "stream",
          "text": [
            "<class 'pandas.core.frame.DataFrame'>\n",
            "Int64Index: 712 entries, 0 to 890\n",
            "Data columns (total 12 columns):\n",
            "PassengerId    712 non-null int64\n",
            "Survived       712 non-null int64\n",
            "Pclass         712 non-null int64\n",
            "Name           712 non-null object\n",
            "Sex            712 non-null object\n",
            "Age            712 non-null float64\n",
            "SibSp          712 non-null int64\n",
            "Parch          712 non-null int64\n",
            "Ticket         712 non-null object\n",
            "Fare           712 non-null float64\n",
            "Cabin          183 non-null object\n",
            "Embarked       712 non-null object\n",
            "dtypes: float64(2), int64(5), object(5)\n",
            "memory usage: 72.3+ KB\n"
          ],
          "name": "stdout"
        }
      ]
    },
    {
      "cell_type": "code",
      "metadata": {
        "id": "GtVjF6N_4O4R",
        "colab_type": "code",
        "colab": {}
      },
      "source": [
        "df_dr[\"Famsize\"] = df_dr[\"SibSp\"] + df_dr[\"Parch\"]\n",
        "df_dr[\"Gencat\"] = pd.Categorical(df_dr[\"Sex\"]).codes\n",
        "df_dr[\"Embarcat\"] = pd.Categorical(df_dr[\"Embarked\"]).codes\n",
        "#df_dr.info()"
      ],
      "execution_count": 0,
      "outputs": []
    },
    {
      "cell_type": "code",
      "metadata": {
        "id": "pPlraxYEAaAC",
        "colab_type": "code",
        "outputId": "84d98f88-5d73-440a-b165-399504e91f4c",
        "colab": {
          "base_uri": "https://localhost:8080/",
          "height": 496
        }
      },
      "source": [
        "df_dr.head()"
      ],
      "execution_count": 45,
      "outputs": [
        {
          "output_type": "execute_result",
          "data": {
            "text/html": [
              "<div>\n",
              "<style scoped>\n",
              "    .dataframe tbody tr th:only-of-type {\n",
              "        vertical-align: middle;\n",
              "    }\n",
              "\n",
              "    .dataframe tbody tr th {\n",
              "        vertical-align: top;\n",
              "    }\n",
              "\n",
              "    .dataframe thead th {\n",
              "        text-align: right;\n",
              "    }\n",
              "</style>\n",
              "<table border=\"1\" class=\"dataframe\">\n",
              "  <thead>\n",
              "    <tr style=\"text-align: right;\">\n",
              "      <th></th>\n",
              "      <th>PassengerId</th>\n",
              "      <th>Survived</th>\n",
              "      <th>Pclass</th>\n",
              "      <th>Name</th>\n",
              "      <th>Sex</th>\n",
              "      <th>Age</th>\n",
              "      <th>SibSp</th>\n",
              "      <th>Parch</th>\n",
              "      <th>Ticket</th>\n",
              "      <th>Fare</th>\n",
              "      <th>Cabin</th>\n",
              "      <th>Embarked</th>\n",
              "      <th>Famsize</th>\n",
              "      <th>Gencat</th>\n",
              "      <th>Embarcat</th>\n",
              "    </tr>\n",
              "  </thead>\n",
              "  <tbody>\n",
              "    <tr>\n",
              "      <th>0</th>\n",
              "      <td>1</td>\n",
              "      <td>0</td>\n",
              "      <td>3</td>\n",
              "      <td>Braund, Mr. Owen Harris</td>\n",
              "      <td>male</td>\n",
              "      <td>22.0</td>\n",
              "      <td>1</td>\n",
              "      <td>0</td>\n",
              "      <td>A/5 21171</td>\n",
              "      <td>7.2500</td>\n",
              "      <td>NaN</td>\n",
              "      <td>S</td>\n",
              "      <td>1</td>\n",
              "      <td>1</td>\n",
              "      <td>2</td>\n",
              "    </tr>\n",
              "    <tr>\n",
              "      <th>1</th>\n",
              "      <td>2</td>\n",
              "      <td>1</td>\n",
              "      <td>1</td>\n",
              "      <td>Cumings, Mrs. John Bradley (Florence Briggs Th...</td>\n",
              "      <td>female</td>\n",
              "      <td>38.0</td>\n",
              "      <td>1</td>\n",
              "      <td>0</td>\n",
              "      <td>PC 17599</td>\n",
              "      <td>71.2833</td>\n",
              "      <td>C85</td>\n",
              "      <td>C</td>\n",
              "      <td>1</td>\n",
              "      <td>0</td>\n",
              "      <td>0</td>\n",
              "    </tr>\n",
              "    <tr>\n",
              "      <th>2</th>\n",
              "      <td>3</td>\n",
              "      <td>1</td>\n",
              "      <td>3</td>\n",
              "      <td>Heikkinen, Miss. Laina</td>\n",
              "      <td>female</td>\n",
              "      <td>26.0</td>\n",
              "      <td>0</td>\n",
              "      <td>0</td>\n",
              "      <td>STON/O2. 3101282</td>\n",
              "      <td>7.9250</td>\n",
              "      <td>NaN</td>\n",
              "      <td>S</td>\n",
              "      <td>0</td>\n",
              "      <td>0</td>\n",
              "      <td>2</td>\n",
              "    </tr>\n",
              "    <tr>\n",
              "      <th>3</th>\n",
              "      <td>4</td>\n",
              "      <td>1</td>\n",
              "      <td>1</td>\n",
              "      <td>Futrelle, Mrs. Jacques Heath (Lily May Peel)</td>\n",
              "      <td>female</td>\n",
              "      <td>35.0</td>\n",
              "      <td>1</td>\n",
              "      <td>0</td>\n",
              "      <td>113803</td>\n",
              "      <td>53.1000</td>\n",
              "      <td>C123</td>\n",
              "      <td>S</td>\n",
              "      <td>1</td>\n",
              "      <td>0</td>\n",
              "      <td>2</td>\n",
              "    </tr>\n",
              "    <tr>\n",
              "      <th>4</th>\n",
              "      <td>5</td>\n",
              "      <td>0</td>\n",
              "      <td>3</td>\n",
              "      <td>Allen, Mr. William Henry</td>\n",
              "      <td>male</td>\n",
              "      <td>35.0</td>\n",
              "      <td>0</td>\n",
              "      <td>0</td>\n",
              "      <td>373450</td>\n",
              "      <td>8.0500</td>\n",
              "      <td>NaN</td>\n",
              "      <td>S</td>\n",
              "      <td>0</td>\n",
              "      <td>1</td>\n",
              "      <td>2</td>\n",
              "    </tr>\n",
              "  </tbody>\n",
              "</table>\n",
              "</div>"
            ],
            "text/plain": [
              "   PassengerId  Survived  Pclass  ... Famsize Gencat  Embarcat\n",
              "0            1         0       3  ...       1      1         2\n",
              "1            2         1       1  ...       1      0         0\n",
              "2            3         1       3  ...       0      0         2\n",
              "3            4         1       1  ...       1      0         2\n",
              "4            5         0       3  ...       0      1         2\n",
              "\n",
              "[5 rows x 15 columns]"
            ]
          },
          "metadata": {
            "tags": []
          },
          "execution_count": 45
        }
      ]
    },
    {
      "cell_type": "markdown",
      "metadata": {
        "id": "WyMi7x8555GM",
        "colab_type": "text"
      },
      "source": [
        "Famsize  \n",
        "Gencat  \n",
        "Embarcat  \n",
        "Fare  \n",
        "Age\n",
        "Pclass\n",
        "\n",
        "Survived"
      ]
    },
    {
      "cell_type": "code",
      "metadata": {
        "id": "ZcZtehK35-u7",
        "colab_type": "code",
        "outputId": "4c60e959-1699-4432-d800-5265863414ac",
        "colab": {
          "base_uri": "https://localhost:8080/",
          "height": 371
        }
      },
      "source": [
        "param1 = \"Survived\"\n",
        "param2s = [\"Famsize\", \"Gencat\", \"Embarcat\", \"Fare\", \"Age\", \"Pclass\"]\n",
        "pear_list = []\n",
        "\n",
        "for a in param2s:\n",
        "    pear_list.append(pear_cor(df_dr[param1], df_dr[a]))\n",
        "\n",
        "pear_s = pd.Series(pear_list)\n",
        "\n",
        "ax = pear_s.plot(kind=\"barh\")\n",
        "ax.set_yticklabels(param2s)\n"
      ],
      "execution_count": 46,
      "outputs": [
        {
          "output_type": "execute_result",
          "data": {
            "text/plain": [
              "[Text(0, 0, 'Famsize'),\n",
              " Text(0, 0, 'Gencat'),\n",
              " Text(0, 0, 'Embarcat'),\n",
              " Text(0, 0, 'Fare'),\n",
              " Text(0, 0, 'Age'),\n",
              " Text(0, 0, 'Pclass')]"
            ]
          },
          "metadata": {
            "tags": []
          },
          "execution_count": 46
        },
        {
          "output_type": "display_data",
          "data": {
            "image/png": "[encoded data removed]",
            "text/plain": [
              "<Figure size 432x288 with 1 Axes>"
            ]
          },
          "metadata": {
            "tags": []
          }
        }
      ]
    },
    {
      "cell_type": "markdown",
      "metadata": {
        "id": "It63A2Hr9Mfq",
        "colab_type": "text"
      },
      "source": [
        "It is now easier to see which parameters have various positive or negative correlations with the survival binary parameter.  \n",
        "\n",
        "Gender and embarcation here are represented numerically.  For gender 1 is male and 0 is female.  So this chart would imply that as gender \"increased\" (ie. changed from female to male) survival would decrease.  \n",
        "\n",
        "This is also the case for Pclass.  So as Pclass increases (ie. going downward in class standing) survival decreased.  \n",
        "\n",
        "There also appears to be a weaker, but still evident correlation between place of embarkation and survival, but as this parameter has also be categorised, this may not be meaningful.  I will look into this next"
      ]
    },
    {
      "cell_type": "code",
      "metadata": {
        "id": "2vC5vYW_-qLq",
        "colab_type": "code",
        "outputId": "0dcb851d-369a-447b-b841-2837e5ee141c",
        "colab": {
          "base_uri": "https://localhost:8080/",
          "height": 85
        }
      },
      "source": [
        "df_dr[\"Embarked\"].value_counts()"
      ],
      "execution_count": 47,
      "outputs": [
        {
          "output_type": "execute_result",
          "data": {
            "text/plain": [
              "S    554\n",
              "C    130\n",
              "Q     28\n",
              "Name: Embarked, dtype: int64"
            ]
          },
          "metadata": {
            "tags": []
          },
          "execution_count": 47
        }
      ]
    },
    {
      "cell_type": "markdown",
      "metadata": {
        "id": "8VDTSySt_-9u",
        "colab_type": "text"
      },
      "source": [
        "The values of Embarkation are S, C, Q, mapping to (2,0,1).  These correspond to Southhampton, Cherborg, Queenstown(Cork, IE) which the ship arrived at relatively.  This will need to be recategorised so that the coding is chronological, S:0, C:1, Q:2"
      ]
    },
    {
      "cell_type": "code",
      "metadata": {
        "id": "FLT7Ev2xrUIC",
        "colab_type": "code",
        "colab": {}
      },
      "source": [
        "df_dr[\"Embarcat\"] = pd.Categorical(df_dr[\"Embarked\"], [\"S\",\"C\",\"Q\"]).codes\n"
      ],
      "execution_count": 0,
      "outputs": []
    },
    {
      "cell_type": "code",
      "metadata": {
        "colab_type": "code",
        "outputId": "95fe68f8-7379-4f65-bf3c-ad45367caffe",
        "id": "ul351tJcr4jR",
        "colab": {
          "base_uri": "https://localhost:8080/",
          "height": 405
        }
      },
      "source": [
        "param1 = \"Survived\"\n",
        "param2s = [\"Famsize\", \"Gencat\", \"Embarcat\", \"Fare\", \"Age\", \"Pclass\", \"SibSp\", \"Parch\"]\n",
        "pear_list = []\n",
        "\n",
        "for a in param2s:\n",
        "    pear_list.append(pear_cor(df_dr[param1], df_dr[a]))\n",
        "\n",
        "pear_s = pd.Series(pear_list)\n",
        "\n",
        "ax = pear_s.plot(kind=\"barh\")\n",
        "ax.set_yticklabels(param2s)\n"
      ],
      "execution_count": 51,
      "outputs": [
        {
          "output_type": "execute_result",
          "data": {
            "text/plain": [
              "[Text(0, 0, 'Famsize'),\n",
              " Text(0, 0, 'Gencat'),\n",
              " Text(0, 0, 'Embarcat'),\n",
              " Text(0, 0, 'Fare'),\n",
              " Text(0, 0, 'Age'),\n",
              " Text(0, 0, 'Pclass'),\n",
              " Text(0, 0, 'SibSp'),\n",
              " Text(0, 0, 'Parch')]"
            ]
          },
          "metadata": {
            "tags": []
          },
          "execution_count": 51
        },
        {
          "output_type": "display_data",
          "data": {
            "image/png": "[encoded data removed]",
            "text/plain": [
              "<Figure size 432x288 with 1 Axes>"
            ]
          },
          "metadata": {
            "tags": []
          }
        }
      ]
    },
    {
      "cell_type": "markdown",
      "metadata": {
        "id": "U-sGIqcBr_UX",
        "colab_type": "text"
      },
      "source": [
        "After sorting the coding of point of embarkation we can now see a weak positive correlation between this parameter and survival rate.\n",
        "\n",
        "We can now start to take a look at grouping these parameters."
      ]
    },
    {
      "cell_type": "code",
      "metadata": {
        "id": "3ZjuUAVzJJIn",
        "colab_type": "code",
        "colab": {
          "base_uri": "https://localhost:8080/",
          "height": 283
        },
        "outputId": "71a95c58-0334-43ea-a1ac-de1445d12af9"
      },
      "source": [
        ""
      ],
      "execution_count": 52,
      "outputs": [
        {
          "output_type": "display_data",
          "data": {
            "image/png": "[encoded data removed]",
            "text/plain": [
              "<Figure size 432x288 with 1 Axes>"
            ]
          },
          "metadata": {
            "tags": []
          }
        }
      ]
    }
  ]
}